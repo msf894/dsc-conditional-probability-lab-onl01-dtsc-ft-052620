{
 "cells": [
  {
   "cell_type": "markdown",
   "metadata": {},
   "source": [
    "# Conditional Probability - Lab\n",
    "\n",
    "## Introduction\n",
    "\n",
    "In order to be ready for real-world applications of probability, it is important to understand what happens when probabilities are not independent. Very often, the probability of a certain event depends on other events happening! Let's see how this all works in this lab.\n",
    "\n",
    "## Objectives\n",
    "\n",
    "You will be able to:\n",
    "\n",
    "* Differentiate between independent and dependent events\n",
    "* Use the multiplication rule to find the probability of the intersection of two events\n",
    "\n",
    "## Exercise 1\n",
    "A coin is tossed and a single 6-sided dice is rolled. Find the probability of landing on the head side of the coin and rolling a 3 on the dice."
   ]
  },
  {
   "cell_type": "code",
   "execution_count": 2,
   "metadata": {
    "ExecuteTime": {
     "end_time": "2020-06-26T02:41:45.999674Z",
     "start_time": "2020-06-26T02:41:45.986707Z"
    }
   },
   "outputs": [
    {
     "data": {
      "text/plain": [
       "0.08333333333333333"
      ]
     },
     "execution_count": 2,
     "metadata": {},
     "output_type": "execute_result"
    }
   ],
   "source": [
    "# Your code here\n",
    "P = 0.5 * (1/6)\n",
    "P"
   ]
  },
  {
   "cell_type": "markdown",
   "metadata": {},
   "source": [
    "## Exercise 2\n",
    "\n",
    "\n",
    "After conducting a survey, one of the outcomes was that 8 out of 10 of the survey subjects liked chocolate chip cookies. If three survey subjects are chosen at random **with replacement**, what is the probability that all three like chocolate chip cookies?"
   ]
  },
  {
   "cell_type": "code",
   "execution_count": 3,
   "metadata": {
    "ExecuteTime": {
     "end_time": "2020-06-26T02:42:25.541739Z",
     "start_time": "2020-06-26T02:42:25.535755Z"
    }
   },
   "outputs": [
    {
     "data": {
      "text/plain": [
       "0.5120000000000001"
      ]
     },
     "execution_count": 3,
     "metadata": {},
     "output_type": "execute_result"
    }
   ],
   "source": [
    "# Your code here\n",
    "choco = (8/10)**3\n",
    "choco"
   ]
  },
  {
   "cell_type": "markdown",
   "metadata": {},
   "source": [
    "## Exercise 3\n",
    "70% of your friends like chocolate flavored ice cream, and 35% like chocolate AND like strawberry flavors.\n",
    "\n",
    "What percent of those who like chocolate also like strawberry?"
   ]
  },
  {
   "cell_type": "code",
   "execution_count": 4,
   "metadata": {
    "ExecuteTime": {
     "end_time": "2020-06-26T02:49:21.586670Z",
     "start_time": "2020-06-26T02:49:21.580688Z"
    }
   },
   "outputs": [
    {
     "data": {
      "text/plain": [
       "0.5"
      ]
     },
     "execution_count": 4,
     "metadata": {},
     "output_type": "execute_result"
    }
   ],
   "source": [
    "# Your code here\n",
    "straw = .35/.7\n",
    "straw"
   ]
  },
  {
   "cell_type": "markdown",
   "metadata": {},
   "source": [
    "50% of your friends who like chocolate also like strawberry\n",
    "\n",
    "## Exercise 4\n",
    "What is the probability of drawing 2 consecutive aces from a deck of cards. "
   ]
  },
  {
   "cell_type": "code",
   "execution_count": 7,
   "metadata": {
    "ExecuteTime": {
     "end_time": "2020-06-26T02:50:01.465101Z",
     "start_time": "2020-06-26T02:50:01.459110Z"
    }
   },
   "outputs": [
    {
     "data": {
      "text/plain": [
       "0.004524886877828055"
      ]
     },
     "execution_count": 7,
     "metadata": {},
     "output_type": "execute_result"
    }
   ],
   "source": [
    "# Your code here\n",
    "aces = 4/52 * 3/51\n",
    "aces"
   ]
  },
  {
   "cell_type": "markdown",
   "metadata": {},
   "source": [
    "## Exercise 5\n",
    "In a manufacturing factory that produces a certain product, there are 100 units of the product, 5 of which are defective. We pick three units from the 100 units at random. \n",
    "\n",
    "What is the probability that none of them are defective?\n",
    "Hint: Use the chain rule here!"
   ]
  },
  {
   "cell_type": "code",
   "execution_count": 8,
   "metadata": {
    "ExecuteTime": {
     "end_time": "2020-06-26T02:51:21.322519Z",
     "start_time": "2020-06-26T02:51:21.316536Z"
    }
   },
   "outputs": [
    {
     "data": {
      "text/plain": [
       "0.8559987631416203"
      ]
     },
     "execution_count": 8,
     "metadata": {},
     "output_type": "execute_result"
    }
   ],
   "source": [
    "# Your code here\n",
    "nondefect = (95/100) *(94/99) * (93/98)\n",
    "nondefect"
   ]
  },
  {
   "cell_type": "markdown",
   "metadata": {},
   "source": [
    "## Exercise 6\n",
    "\n",
    "Let's consider the example where 2 dice are thrown. Given that **at least one** of the dice has come up on a number higher than 4, what is the probability that the sum is 8?\n",
    "\n",
    "Let $i,j$ be the numbers shown on the dice. The events $A$ and $B$ are described below:\n",
    "\n",
    "* **Event $A$ is when either $i$ or $j$ is 5 or 6** (keep an eye on either - or)\n",
    "* **Event $B$ is when $i + j = 8$**\n",
    "\n",
    "\n",
    "* What is the size of sample space $\\Omega$ ?\n",
    "* What is $P(A \\cap B)$ ?\n",
    "* What is $P(A)$ ?\n",
    "* Use above to calculate $P(B \\mid A)$"
   ]
  },
  {
   "cell_type": "code",
   "execution_count": 11,
   "metadata": {
    "ExecuteTime": {
     "end_time": "2020-06-26T03:03:10.061861Z",
     "start_time": "2020-06-26T03:03:10.056862Z"
    }
   },
   "outputs": [
    {
     "data": {
      "text/plain": [
       "0.3333333333333333"
      ]
     },
     "execution_count": 11,
     "metadata": {},
     "output_type": "execute_result"
    }
   ],
   "source": [
    "# Your code here\n",
    "event_a = 4/36\n",
    "event_b = (2/6)\n",
    "prob6 = event_a/event_b\n",
    "prob6"
   ]
  },
  {
   "cell_type": "markdown",
   "metadata": {},
   "source": [
    "## Exercise 7\n",
    "\n",
    "Let's consider a credit card example. At a supermarket, customers are selected randomly, the store owner recorded whether costumers owned a Visa card (event A) or an Amex credit card (event B). Some customers own both cards.\n",
    "You can assume that:\n",
    "\n",
    "- $P(A)$ = 0.5\n",
    "- $P(B)$ = 0.4\n",
    "- both $A$ and $B$ = 0.25.\n",
    "\n",
    "\n",
    "With the knowledge we have about conditional probabilities, compute and interpret the following probabilities:\n",
    "\n",
    "- $P(B \\mid A)$\n",
    "- $P(B' \\mid A)$\n",
    "- $P(A \\mid B)$\n",
    "- $P(A' \\mid B)$\n"
   ]
  },
  {
   "cell_type": "code",
   "execution_count": 16,
   "metadata": {
    "ExecuteTime": {
     "end_time": "2020-06-26T03:06:16.834963Z",
     "start_time": "2020-06-26T03:06:16.827984Z"
    }
   },
   "outputs": [
    {
     "name": "stdout",
     "output_type": "stream",
     "text": [
      "0.5\n",
      "0.5\n",
      "0.625\n",
      "0.375\n"
     ]
    }
   ],
   "source": [
    "# Your code here\n",
    "a = 0.5\n",
    "b = 0.4\n",
    "a_b = 0.25\n",
    "\n",
    "prob_B_A = a_b / a\n",
    "print(prob_B_A)\n",
    "print(1-prob_B_A)\n",
    "\n",
    "prob_A_B = a_b/b\n",
    "print(prob_A_B)\n",
    "print(1-prob_A_B)"
   ]
  },
  {
   "cell_type": "markdown",
   "metadata": {},
   "source": [
    "## Summary \n",
    "\n",
    "In this lab, you practiced conditional probability and its theorem with some simple problems. The key takeaway from this lab is to be able to identify random events as dependent or independent and calculating the probability of their occurrence using appropriate methods. Next, you'll learn about some more conditional probability axioms, building on the knowledge we have so far. "
   ]
  }
 ],
 "metadata": {
  "kernelspec": {
   "display_name": "Python 3",
   "language": "python",
   "name": "python3"
  },
  "language_info": {
   "codemirror_mode": {
    "name": "ipython",
    "version": 3
   },
   "file_extension": ".py",
   "mimetype": "text/x-python",
   "name": "python",
   "nbconvert_exporter": "python",
   "pygments_lexer": "ipython3",
   "version": "3.7.6"
  },
  "toc": {
   "base_numbering": 1,
   "nav_menu": {},
   "number_sections": true,
   "sideBar": true,
   "skip_h1_title": false,
   "title_cell": "Table of Contents",
   "title_sidebar": "Contents",
   "toc_cell": false,
   "toc_position": {},
   "toc_section_display": true,
   "toc_window_display": false
  },
  "varInspector": {
   "cols": {
    "lenName": 16,
    "lenType": 16,
    "lenVar": 40
   },
   "kernels_config": {
    "python": {
     "delete_cmd_postfix": "",
     "delete_cmd_prefix": "del ",
     "library": "var_list.py",
     "varRefreshCmd": "print(var_dic_list())"
    },
    "r": {
     "delete_cmd_postfix": ") ",
     "delete_cmd_prefix": "rm(",
     "library": "var_list.r",
     "varRefreshCmd": "cat(var_dic_list()) "
    }
   },
   "types_to_exclude": [
    "module",
    "function",
    "builtin_function_or_method",
    "instance",
    "_Feature"
   ],
   "window_display": false
  }
 },
 "nbformat": 4,
 "nbformat_minor": 2
}
